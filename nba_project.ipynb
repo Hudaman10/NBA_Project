{
 "cells": [
  {
   "cell_type": "code",
   "execution_count": null,
   "metadata": {},
   "outputs": [],
   "source": [
    "#Dependencies\n",
    "import pandas as pd\n",
    "from sqlalchemy import create_engine\n",
    "import numpy as np\n",
    "import matplotlib.pyplot as plt\n",
    "import pymysql\n",
    "pymysql.install_as_MySQLdb()"
   ]
  },
  {
   "cell_type": "code",
   "execution_count": null,
   "metadata": {},
   "outputs": [],
   "source": [
    "#Import Datasets\n",
    "#Draft Data\n",
    "draft_file = \"./Datasets/draft78.csv\"\n",
    "draft_df = pd.read_csv(draft_file)\n",
    "#Salery Data\n",
    "salary_file = \"./Datasets/Player - Salaries per Year (1990 - 2017).xlsx\"\n",
    "salary_df = pd.read_excel(salary_file)\n",
    "#Player Data\n",
    "player_file = \"./Datasets/player_data.csv\"\n",
    "player_df = pd.read_csv(player_file)"
   ]
  },
  {
   "cell_type": "code",
   "execution_count": null,
   "metadata": {},
   "outputs": [],
   "source": [
    "#Cleaning player_df and draft_df\n",
    "player_df = player_df.drop(columns=['year_start', 'year_end'])\n",
    "draft_df = draft_df.drop(columns=['Yrs'])"
   ]
  },
  {
   "cell_type": "code",
   "execution_count": null,
   "metadata": {},
   "outputs": [],
   "source": [
    "#Merging Salary and Draft\n",
    "salary_df_2 = pd.merge(salary_df,  draft_df, how='inner', left_on='Player Name', \n",
    "                       right_on='Player', copy=False)\n",
    "salary_df_2 = salary_df_2.drop(columns=['Player'])"
   ]
  },
  {
   "cell_type": "code",
   "execution_count": null,
   "metadata": {},
   "outputs": [],
   "source": [
    "#Merging New Salary Dataframe with Player Info and dropping unnecessary\n",
    "final_df = pd.merge(salary_df_2, player_df, left_on='Player Name', right_on='name')\n",
    "final_df = final_df.drop(columns=['Register Value','Team', 'name'])"
   ]
  },
  {
   "cell_type": "code",
   "execution_count": null,
   "metadata": {},
   "outputs": [],
   "source": [
    "#Renaming Columns to dump into SQL DB\n",
    "final_df = final_df.rename(columns={\n",
    "    'Player Name':'player_name', 'Salary in $': 'salary', 'Season Start': 'season_start',\n",
    "    'Season End':'season_end', 'Full Team Name': 'team_name', 'Pick':'draft_rank',\n",
    "    'Draft':'draft_name'\n",
    "})\n",
    "final_df.head()"
   ]
  },
  {
   "cell_type": "code",
   "execution_count": null,
   "metadata": {},
   "outputs": [],
   "source": [
    "#Setting up connection to SQL\n",
    "connection_string = \"root:S2hockey@localhost/nba_db\"\n",
    "engine = create_engine(f'mysql://{connection_string}')\n",
    "engine.table_names()"
   ]
  },
  {
   "cell_type": "code",
   "execution_count": null,
   "metadata": {},
   "outputs": [],
   "source": [
    "#Load Data into SQL\n",
    "final_df.to_sql(name='nba_info', con=engine, if_exists='append', index=False)"
   ]
  },
  {
   "cell_type": "code",
   "execution_count": null,
   "metadata": {},
   "outputs": [],
   "source": [
    "#Create new dataframe for analysis\n",
    "final_a_df = final_df.groupby('player_name').max()\n",
    "final_a_df.head()"
   ]
  },
  {
   "cell_type": "code",
   "execution_count": null,
   "metadata": {},
   "outputs": [],
   "source": [
    "#Converting height to inches\n",
    "heights = final_a_df['height'].str.split('-', n = 1, expand = True)\n",
    "heights = heights[[0,1]].astype('int64')\n",
    "heights['height_inches'] = 12*heights[0] + heights[1]\n",
    "heights = heights[['height_inches']]"
   ]
  },
  {
   "cell_type": "code",
   "execution_count": null,
   "metadata": {},
   "outputs": [],
   "source": [
    "#Pulling Just the Salaries\n",
    "just_salaries = final_a_df[['salary']]\n",
    "#Merging with height table\n",
    "heights1 = pd.merge(heights, just_salaries, on='player_name')\n",
    "#Creating new table with average salaries grouped by height in inches"
   ]
  },
  {
   "cell_type": "code",
   "execution_count": null,
   "metadata": {},
   "outputs": [],
   "source": [
    "#Creating Linear Regression for Height in Inches vs. Max Salary for all players\n",
    "\n",
    "#Importing Stats and Matplotlib\n",
    "from scipy.stats import linregress\n",
    "import matplotlib.pyplot as plt\n",
    "#Making Line of Best Fit\n",
    "(slope, intercept, _, _, _) = linregress(heights1['height_inches'], heights1['salary'])\n",
    "fit = slope * heights1['height_inches'] + intercept\n",
    "#Making Plot\n",
    "#Making plot\n",
    "fig, ax = plt.subplots()\n",
    "fig.suptitle(\"Player Height in Inches vs. Max Salary Recieved\", fontsize=12)\n",
    "ax.set_xlabel(\"Player Height (inches)\")\n",
    "ax.set_ylabel(\"Max Salary ($)\")\n",
    "ax.plot(heights1['height_inches'], heights1['salary'], color = 'red', linewidth=0, marker='o')\n",
    "ax.plot(heights1['height_inches'], fit, 'b--')\n",
    "plt.grid()\n",
    "plt.show()\n",
    "corr_coef = np.corrcoef(heights1['height_inches'], heights1['salary'])[0, 1]\n",
    "print('The slope of the line of best fit is ' + str(slope))\n",
    "print(f'The correlation coefficient is {corr_coef}')"
   ]
  },
  {
   "cell_type": "code",
   "execution_count": null,
   "metadata": {},
   "outputs": [],
   "source": [
    "#Creating Linear Regression for Height in Inches vs. Max Salary grouped by Height\n",
    "#Making Line of Best Fit\n",
    "(slope2, intercept2, _, _, _) = linregress(heights2.index.values, heights2['salary'])\n",
    "fit2 = slope2 * heights2.index.values + intercept2\n",
    "#Making Plot\n",
    "#Making plot\n",
    "fig2, ax2 = plt.subplots()\n",
    "fig2.suptitle(\"Player Height in Inches vs. Average Max Salary Recieved\", fontsize=12)\n",
    "ax2.set_xlabel(\"Player Height (inches)\")\n",
    "ax2.set_ylabel(\"Average Max Salary ($)\")\n",
    "ax2.plot(heights2.index.values, heights2['salary'], color = 'red', linewidth=0, marker='o')\n",
    "ax2.plot(heights2.index.values, fit2, 'b--')\n",
    "plt.grid()\n",
    "plt.show()\n",
    "corr_coef2 = np.corrcoef(heights2.index.values, heights2['salary'])[0, 1]\n",
    "print('The slope of the line of best fit is ' + str(slope2))\n",
    "print(f'The correlation coefficient is {corr_coef2}')"
   ]
  },
  {
   "cell_type": "code",
   "execution_count": null,
   "metadata": {},
   "outputs": [],
   "source": [
    "#Making a draft table\n",
    "draft_rank = final_a_df[['draft_rank', 'salary']]\n",
    "draft_rank = draft_rank.groupby('draft_rank').mean()\n",
    "draft_rank.head()"
   ]
  },
  {
   "cell_type": "code",
   "execution_count": null,
   "metadata": {},
   "outputs": [],
   "source": [
    "#Making linear regression for draft rank vs. average salary\n",
    "#Making Line of Best Fit\n",
    "(slope3, intercept3, _, _, _) = linregress(draft_rank.index.values, draft_rank['salary'])\n",
    "fit3 = slope3 * draft_rank.index.values + intercept3\n",
    "#Making Plot\n",
    "#Making plot\n",
    "fig3, ax3 = plt.subplots()\n",
    "fig3.suptitle(\"Draft Rank vs. Average Max Salary Recieved\", fontsize=12)\n",
    "ax3.set_xlabel(\"Draft Rank\")\n",
    "ax3.set_ylabel(\"Average Max Salary ($)\")\n",
    "ax3.plot(draft_rank.index.values, draft_rank['salary'], color = 'red', linewidth=0, marker='o')\n",
    "ax3.plot(draft_rank.index.values, fit3, 'b--')\n",
    "plt.grid()\n",
    "plt.show()\n",
    "corr_coef3 = np.corrcoef(draft_rank.index.values, draft_rank['salary'])[0, 1]\n",
    "print('The slope of the line of best fit is ' + str(slope3))\n",
    "print(f'The correlation coefficient is {corr_coef3}')"
   ]
  },
  {
   "cell_type": "code",
   "execution_count": null,
   "metadata": {},
   "outputs": [],
   "source": [
    "#Salary vs Position Analysis\n",
    "group_by_pos = final_df.groupby('position').mean()\n",
    "\n",
    "#Plot Average Rating By State\n",
    "plt.figure(figsize = (20,10))\n",
    "plt.bar(np.arange(0,len(group_by_pos),1),height = group_by_pos['salary'], color = 'lightblue', align = 'center', width = 0.8,)\n",
    "plt.grid()\n",
    "plt.title(\"Position vs. Average Salary\", fontsize = 20)\n",
    "plt.xlabel(\"Position\", fontsize = 15)\n",
    "plt.ylabel(\"Average Salary (in Millions)\", fontsize = 15)\n",
    "plt.xticks(np.arange(0,len(group_by_pos),1),('C','C-F','F','F-C','F-G','G','G-F'))"
   ]
  },
  {
   "cell_type": "code",
   "execution_count": null,
   "metadata": {},
   "outputs": [],
   "source": [
    "#Average Salary by Position over time Analysis\n",
    "\n",
    "#Create years series\n",
    "years = np.arange(1991,2019,1)\n",
    "#Create new data frame\n",
    "final_df1 = final_df.groupby(['position','season_end']).mean()\n",
    "#Create series for each position\n",
    "center = final_df1.loc['C',['salary']]\n",
    "center_forward = final_df1.loc['C-F',['salary']]\n",
    "forward = final_df1.loc['F',['salary']]\n",
    "forward_center = final_df1.loc['F-C',['salary']]\n",
    "forward_guard = final_df1.loc['F-G',['salary']]\n",
    "guard = final_df1.loc['G',['salary']]\n",
    "guard_forward = final_df1.loc['G-F',['salary']]"
   ]
  },
  {
   "cell_type": "code",
   "execution_count": null,
   "metadata": {},
   "outputs": [],
   "source": [
    "#Plot Line Graph\n",
    "\n",
    "plt.figure(figsize = (20,10))\n",
    "\n",
    "plt.plot(years,center['salary'],color='green',label='Center')\n",
    "plt.plot(years,center_forward['salary'],color='blue',label='Center_Forward')\n",
    "plt.plot(years,forward['salary'],color='red',label='Forward')\n",
    "plt.plot(years,forward_center['salary'],color='orange',label='Forward_Center')\n",
    "plt.plot(years,forward_guard['salary'],color='magenta',label='Forward_Guard')\n",
    "plt.plot(years,guard['salary'],color='black',label='Guard')\n",
    "plt.plot(years,guard_forward['salary'],color='cyan',label='Guard_Forward')\n",
    "\n",
    "plt.grid()\n",
    "plt.legend(loc=\"best\")\n",
    "plt.title(\"Average Salary by Position over Time\", fontsize = 20)\n",
    "plt.xlabel(\"Years\", fontsize = 15)\n",
    "plt.ylabel(\"Salary (in Millions)\", fontsize = 15)"
   ]
  }
 ],
 "metadata": {
  "kernelspec": {
   "display_name": "Python 3",
   "language": "python",
   "name": "python3"
  },
  "language_info": {
   "codemirror_mode": {
    "name": "ipython",
    "version": 3
   },
   "file_extension": ".py",
   "mimetype": "text/x-python",
   "name": "python",
   "nbconvert_exporter": "python",
   "pygments_lexer": "ipython3",
   "version": "3.6.5"
  }
 },
 "nbformat": 4,
 "nbformat_minor": 2
}
